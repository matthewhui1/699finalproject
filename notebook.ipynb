{
  "cells": [
    {
      "cell_type": "markdown",
      "source": "# Final Project - How well can we predict when somebody is looking for a job change? \n",
      "metadata": {
        "tags": [],
        "cell_id": "00001-a3f5ba63-29e0-4efe-9fcb-a5c31f2983d1",
        "deepnote_cell_type": "markdown"
      }
    },
    {
      "cell_type": "markdown",
      "source": "# Matthew Hui",
      "metadata": {
        "tags": [],
        "cell_id": "00002-fb9725d3-21d5-483e-8747-c49926330463",
        "deepnote_cell_type": "markdown"
      }
    },
    {
      "cell_type": "markdown",
      "source": "# Load Data and Import Packages\n\nI chose to train the model using 80% of the data and test on 20% of the data. I also stratified my split in order to get the same proportions for the target.\n",
      "metadata": {
        "tags": [],
        "cell_id": "00003-743ce421-2cb1-4969-9457-64d01b1be025",
        "deepnote_cell_type": "markdown"
      }
    },
    {
      "cell_type": "code",
      "source": "import numpy as np\nimport pandas as pd\nfrom sklearn.base                 import BaseEstimator\nfrom   sklearn.compose            import *\nfrom   sklearn.ensemble           import RandomForestClassifier\nfrom   sklearn.ensemble           import ExtraTreesClassifier\nfrom   sklearn.impute             import *\nfrom   sklearn.metrics            import *\nfrom   sklearn.model_selection    import train_test_split\nfrom   sklearn.model_selection    import RandomizedSearchCV\nfrom   sklearn.pipeline           import Pipeline\nfrom   sklearn.preprocessing      import *",
      "metadata": {
        "tags": [],
        "cell_id": "00005-a17af983-a841-4275-9722-41ca8f3e156e",
        "deepnote_to_be_reexecuted": false,
        "source_hash": "9f8841d8",
        "execution_millis": 1905,
        "execution_start": 1615798050623,
        "deepnote_cell_type": "code"
      },
      "outputs": [],
      "execution_count": 1
    },
    {
      "cell_type": "code",
      "source": "df = pd.read_csv('aug_train.csv')\n\ntarget_col = df.columns == 'target'\n\nX = df.loc[:, ~target_col]\ny = df.loc[:,target_col]\n\nX_train, X_test, y_train, y_test = train_test_split(X, y.values.ravel(), stratify=y,\n                                                    test_size = 0.2, random_state=42) ",
      "metadata": {
        "tags": [],
        "cell_id": "00006-4cb79397-dedd-4252-816a-707cb94c1744",
        "deepnote_to_be_reexecuted": false,
        "source_hash": "c6bd3106",
        "execution_millis": 343,
        "execution_start": 1615798052539,
        "deepnote_cell_type": "code"
      },
      "outputs": [],
      "execution_count": 2
    },
    {
      "cell_type": "markdown",
      "source": "# Feature Engineering\nThere are many missing variables in this dataset, so I used simple imputing to impute the median of continuous variables and imputed a new unknown category for discrete variables. I used one hot encoding on my nominal variables and ordinal encoding on the ordinal variables.",
      "metadata": {
        "tags": [],
        "cell_id": "00005-57788365-6c9b-4d94-8481-e3436841e2c0",
        "deepnote_cell_type": "markdown"
      }
    },
    {
      "cell_type": "code",
      "source": "# Impute median for missing values of categorical variables (do not want to make assumptions)\ncon_pipe = Pipeline([('imputer', SimpleImputer(strategy='median'))])\n\n# Impute 'unknown' when value is missing for nominal categorical variables\nnom_pipe = Pipeline([\n                     ('imputer', SimpleImputer(strategy='constant', fill_value='unknown')),\n                     ('ohe', OneHotEncoder())\n                    ])\n\n# Setting category orders for ordinal variables\nnums = [str(i) for i in range(1, 21)]\n\ncategories = [['Primary School','unknown', 'High School', 'Graduate', 'Masters', 'Phd'],\n              ['never','unknown', '1', '2', '3', '4', '>4'],\n              ['<1', 'unknown'] + nums + ['>20'],\n              ['no_enrollment', 'unknown', 'Part time course', 'Full time course'],\n              ['unknown', '<10', '10/49', '50-99', '100-500', '500-999', '1000-4999', '5000-9999', '10000+']]\n\n# Impute 'unknown' when value is missing for ordinal variables (do not want to make assumptions)\nord_pipe = Pipeline([\n                     ('imputer', SimpleImputer(strategy='constant', fill_value='unknown')),\n                     ('ohe', OrdinalEncoder(categories=categories))\n                    ])\n\n# Make column transformer combining pipelines (do not want to make assumptions)\npreprocessing = ColumnTransformer([\n                                   ('continuous', con_pipe, ['city_development_index', 'training_hours']),\n                                   ('nominal', nom_pipe, ['gender', 'relevent_experience',\n                                                              'major_discipline', 'company_type']),\n                                   ('ordinal', ord_pipe, ['education_level', 'last_new_job', 'experience',\n                                                          'enrolled_university', 'company_size'])\n                                  ])",
      "metadata": {
        "tags": [],
        "cell_id": "00006-97edec1b-cf0d-4677-a42e-197d6a5c4309",
        "deepnote_to_be_reexecuted": false,
        "source_hash": "d241ab98",
        "execution_millis": 17,
        "execution_start": 1615798052888,
        "deepnote_cell_type": "code"
      },
      "outputs": [],
      "execution_count": 3
    },
    {
      "cell_type": "markdown",
      "source": "# Algorithms and Search - Extra Trees Classifier and Random Forest Classifier\nCreating search space:\n- Criterion: The two criterion are two different functions that determine how good a split is. \n- Max Depth: Limits the number of splits each tree can have (prevents overfitting)\n- Min Samples Split/Min Samples Leaf: Have similar uses: once a leaf node is small enough stop fitting (prevents overfitting)\n- Max Features: The amount of features the tree can consider (by taking a subset it prevents all trees to look the same)\n- Class Weight: Takes into account the proportion of the target (deals with the slight data imbalance problem)\n- N Estimators: Number of trees produced gives better generalization to the model",
      "metadata": {
        "tags": [],
        "cell_id": "00007-c076a5d9-356d-4605-85e2-8dbbbced9a68",
        "deepnote_cell_type": "markdown"
      }
    },
    {
      "cell_type": "code",
      "source": "# Dummy Estimator to pass through pipeline\nclass DummyEstimator(BaseEstimator):\n    \"Pass through class, methods are present but do nothing.\"\n    def fit(self): pass\n    def score(self): pass\n\n# Create basic pipeline\npipe = Pipeline([\n                 ('preprocessing', preprocessing),\n                 ('clf', DummyEstimator())\n                ])\n\n# Create dictionary with hyperparameters to search through\nsearch_space = {\n                    'clf': [ExtraTreesClassifier(), RandomForestClassifier()],\n                    'clf__criterion': ['gini', 'entropy'], \n                    'clf__max_depth': [3, 5, 10, 15, 20, 25, 50, 75, 100, 200, None],\n                    'clf__min_samples_split': [2, 3, 5, 10, 20, 30, 50],\n                    'clf__min_samples_leaf': [1, 2, 3, 5, 10, 15],\n                    'clf__max_features': ['auto', 'sqrt', 'log2'],\n                    'clf__class_weight': [None, 'balanced', 'balanced_subsample'],\n                    'clf__n_estimators': [1, 3, 5, 10, 15, 25, 50, 75, 100, 125, 150, 200]\n               }",
      "metadata": {
        "tags": [],
        "cell_id": "00006-c635383a-161b-4b1b-9e56-24fb87b9125d",
        "deepnote_to_be_reexecuted": false,
        "source_hash": "83116ed3",
        "execution_millis": 13,
        "execution_start": 1615798052911,
        "deepnote_cell_type": "code"
      },
      "outputs": [],
      "execution_count": 4
    },
    {
      "cell_type": "code",
      "source": "# Want to use and F0.5 score to put more weight on precision\nfbeta_scorer = make_scorer(fbeta_score, beta=0.5)\n\n# Random search through parameter grid\nrand_search = RandomizedSearchCV(estimator=pipe, \n                                 param_distributions=search_space, \n                                 n_iter=100,\n                                 cv=5, \n                                 n_jobs=-1,\n                                 scoring=fbeta_scorer,\n                                 random_state=42)\n\n# Fit search\nfinal_model = rand_search.fit(X_train, y_train)",
      "metadata": {
        "tags": [],
        "cell_id": "00007-245b0457-ed34-4311-9152-90cf23c61089",
        "deepnote_to_be_reexecuted": false,
        "source_hash": "2d0f24fe",
        "execution_millis": 574471,
        "execution_start": 1615798052932,
        "deepnote_cell_type": "code"
      },
      "outputs": [],
      "execution_count": 5
    },
    {
      "cell_type": "code",
      "source": "# Print best paramaters\nprint('Best Model:', final_model.best_estimator_.get_params()['clf'])",
      "metadata": {
        "tags": [],
        "cell_id": "00008-4f21c0c7-fa56-4ca8-8d0e-46019bc6cd18",
        "deepnote_to_be_reexecuted": false,
        "source_hash": "715ffe0",
        "execution_millis": 23,
        "execution_start": 1615798627447,
        "deepnote_cell_type": "code"
      },
      "outputs": [
        {
          "name": "stdout",
          "text": "Best Model: RandomForestClassifier(class_weight='balanced', max_depth=200,\n                       min_samples_leaf=3, min_samples_split=5,\n                       n_estimators=200)\n",
          "output_type": "stream"
        }
      ],
      "execution_count": 6
    },
    {
      "cell_type": "markdown",
      "source": "# Final Model\n\n\n",
      "metadata": {
        "tags": [],
        "cell_id": "00011-b1f17523-e7f4-4f2e-9242-82fc20732602",
        "deepnote_cell_type": "markdown"
      }
    },
    {
      "cell_type": "code",
      "source": "# Fit the final model\npipe = Pipeline([\n                 ('preprocessing', preprocessing),\n                 ('rf', RandomForestClassifier(class_weight='balanced', max_depth=200,\n                                               min_samples_leaf=3, min_samples_split=5,\n                                               n_estimators=200, n_jobs=-1))\n                ])\n\npipe.fit(X_train, y_train);\n\ny_preds = pipe.predict(X_test)\n",
      "metadata": {
        "tags": [],
        "cell_id": "00009-8c3d530e-da41-4668-8561-acd72cfd01de",
        "deepnote_to_be_reexecuted": false,
        "source_hash": "5ebc64c",
        "execution_millis": 5487,
        "execution_start": 1615798705222,
        "deepnote_cell_type": "code"
      },
      "outputs": [],
      "execution_count": 11
    },
    {
      "cell_type": "code",
      "source": "pipe = Pipeline([\n                 ('preprocessing', preprocessing),\n                 ('rf', RandomForestClassifier(class_weight='balanced', max_depth=200,\n                                               min_samples_leaf=3, min_samples_split=5,\n                                               n_estimators=200, n_jobs=-1))\n                ])\n\npipe.fit(X_train, y_train);\n\ny_preds = pipe.predict(X_test)\n",
      "metadata": {
        "tags": [],
        "cell_id": "00013-3012b611-5b13-4903-9b18-4b96238fc656",
        "deepnote_to_be_reexecuted": false,
        "source_hash": "aa8ac8a0",
        "execution_millis": 5217,
        "execution_start": 1615798710752,
        "deepnote_cell_type": "code"
      },
      "outputs": [],
      "execution_count": 12
    },
    {
      "cell_type": "markdown",
      "source": "# Evaluation Metrics\n\nAccuracy: How good were our overall predictions\n- 79% of all of our predictions were correct  \n\nPrecision: When predicting job change, how often was it correct?\n- 56% of all predicted positives were true positives.\n\nRecall: How much of the actual candidate pool did we keep?\n- 74% of all potential candidates were included in our predictions\n\n\n\n",
      "metadata": {
        "tags": [],
        "cell_id": "00013-0f48504d-070a-4a8a-aa45-53b1f6aaf604",
        "deepnote_cell_type": "markdown"
      }
    },
    {
      "cell_type": "code",
      "source": "print('Confusion Matrix:\\n', confusion_matrix(y_test, y_preds))\nprint('Accuracy Score:', round(accuracy_score(y_test, y_preds), 2))\nprint('Precision:', round(precision_score(y_test, y_preds), 2))\nprint('Recall:', round(recall_score(y_test, y_preds), 2))",
      "metadata": {
        "tags": [],
        "cell_id": "00010-37543033-4ae4-47c5-a797-17e52d8c3bd9",
        "deepnote_to_be_reexecuted": false,
        "source_hash": "f7477b84",
        "execution_millis": 10,
        "execution_start": 1615798728522,
        "deepnote_cell_type": "code"
      },
      "outputs": [
        {
          "name": "stdout",
          "text": "Confusion Matrix:\n [[2328  549]\n [ 245  710]]\nAccuracy Score: 0.79\nPrecision: 0.56\nRecall: 0.74\n",
          "output_type": "stream"
        }
      ],
      "execution_count": 14
    },
    {
      "cell_type": "markdown",
      "source": "",
      "metadata": {
        "tags": [],
        "cell_id": "00015-03d6fcb7-44fa-42d5-b1cd-f88fd7e7dbbc",
        "deepnote_cell_type": "markdown"
      }
    },
    {
      "cell_type": "markdown",
      "source": "# Conclusion\nFinal Model:\n- RandomForestClassifier\n- class weight: balanced\n- max depth: 200\n- min samples leaf: 3\n- min samples split: 5\n- number of estimators: 200\n\nModel did not perform as well as I had hoped. If there was more demographic data that could help a lot. Sacrificing some recall in order to get a higher precision could also better improve the model since the candidate pool is so large and a company only needs so many candidates.\n\nThe model has a lot of functionality when trying to find potential data scientists to hire. Using this model can reduce time and money spent on the hiring process. With accurate predictions, hiring managers can reduce their time on potential candidates that are actually not interested.\n\nNext steps: Some potential next steps would be trying more models or trying to create features using the features that are already provided. \n",
      "metadata": {
        "tags": [],
        "cell_id": "00016-b889f611-1362-4fd0-a5ff-763582956500",
        "deepnote_cell_type": "markdown"
      }
    },
    {
      "cell_type": "code",
      "source": "from sklearn import set_config\nset_config(display='diagram')\npipe",
      "metadata": {
        "tags": [],
        "cell_id": "00015-03114d57-b6e3-4363-80d2-99317e521353",
        "deepnote_to_be_reexecuted": false,
        "source_hash": "9e5d3ed0",
        "execution_millis": 305,
        "execution_start": 1615798637574,
        "deepnote_cell_type": "code"
      },
      "outputs": [
        {
          "output_type": "execute_result",
          "execution_count": 10,
          "data": {
            "text/plain": "Pipeline(steps=[('preprocessing',\n                 ColumnTransformer(transformers=[('continuous',\n                                                  Pipeline(steps=[('imputer',\n                                                                   SimpleImputer(strategy='median'))]),\n                                                  ['city_development_index',\n                                                   'training_hours']),\n                                                 ('nominal',\n                                                  Pipeline(steps=[('imputer',\n                                                                   SimpleImputer(fill_value='unknown',\n                                                                                 strategy='constant')),\n                                                                  ('ohe',\n                                                                   OneHotEncoder())]),\n                                                  ['gender',\n                                                   'relevent_experience',\n                                                   'major_dis...\n                                                                                               'time '\n                                                                                               'course',\n                                                                                               'Full '\n                                                                                               'time '\n                                                                                               'course'],\n                                                                                              ['unknown',\n                                                                                               '<10',\n                                                                                               '10/49',\n                                                                                               '50-99',\n                                                                                               '100-500',\n                                                                                               '500-999',\n                                                                                               '1000-4999',\n                                                                                               '5000-9999',\n                                                                                               '10000+']]))]),\n                                                  ['education_level',\n                                                   'last_new_job', 'experience',\n                                                   'enrolled_university',\n                                                   'company_size'])])),\n                ('rf',\n                 RandomForestClassifier(class_weight='balanced', max_depth=200,\n                                        min_samples_leaf=3, min_samples_split=5,\n                                        n_estimators=200, n_jobs=-1))])",
            "text/html": "<style>div.sk-top-container {color: black;background-color: white;}div.sk-toggleable {background-color: white;}label.sk-toggleable__label {cursor: pointer;display: block;width: 100%;margin-bottom: 0;padding: 0.2em 0.3em;box-sizing: border-box;text-align: center;}div.sk-toggleable__content {max-height: 0;max-width: 0;overflow: hidden;text-align: left;background-color: #f0f8ff;}div.sk-toggleable__content pre {margin: 0.2em;color: black;border-radius: 0.25em;background-color: #f0f8ff;}input.sk-toggleable__control:checked~div.sk-toggleable__content {max-height: 200px;max-width: 100%;overflow: auto;}div.sk-estimator input.sk-toggleable__control:checked~label.sk-toggleable__label {background-color: #d4ebff;}div.sk-label input.sk-toggleable__control:checked~label.sk-toggleable__label {background-color: #d4ebff;}input.sk-hidden--visually {border: 0;clip: rect(1px 1px 1px 1px);clip: rect(1px, 1px, 1px, 1px);height: 1px;margin: -1px;overflow: hidden;padding: 0;position: absolute;width: 1px;}div.sk-estimator {font-family: monospace;background-color: #f0f8ff;margin: 0.25em 0.25em;border: 1px dotted black;border-radius: 0.25em;box-sizing: border-box;}div.sk-estimator:hover {background-color: #d4ebff;}div.sk-parallel-item::after {content: \"\";width: 100%;border-bottom: 1px solid gray;flex-grow: 1;}div.sk-label:hover label.sk-toggleable__label {background-color: #d4ebff;}div.sk-serial::before {content: \"\";position: absolute;border-left: 1px solid gray;box-sizing: border-box;top: 2em;bottom: 0;left: 50%;}div.sk-serial {display: flex;flex-direction: column;align-items: center;background-color: white;}div.sk-item {z-index: 1;}div.sk-parallel {display: flex;align-items: stretch;justify-content: center;background-color: white;}div.sk-parallel-item {display: flex;flex-direction: column;position: relative;background-color: white;}div.sk-parallel-item:first-child::after {align-self: flex-end;width: 50%;}div.sk-parallel-item:last-child::after {align-self: flex-start;width: 50%;}div.sk-parallel-item:only-child::after {width: 0;}div.sk-dashed-wrapped {border: 1px dashed gray;margin: 0.2em;box-sizing: border-box;padding-bottom: 0.1em;background-color: white;position: relative;}div.sk-label label {font-family: monospace;font-weight: bold;background-color: white;display: inline-block;line-height: 1.2em;}div.sk-label-container {position: relative;z-index: 2;text-align: center;}div.sk-container {display: inline-block;position: relative;}</style><div class=\"sk-top-container\"><div class=\"sk-container\"><div class=\"sk-item sk-dashed-wrapped\"><div class=\"sk-label-container\"><div class=\"sk-label sk-toggleable\"><input class=\"sk-toggleable__control sk-hidden--visually\" id=\"78d96cff-4c57-45e6-b2f7-4d8c8d8b4c93\" type=\"checkbox\" ><label class=\"sk-toggleable__label\" for=\"78d96cff-4c57-45e6-b2f7-4d8c8d8b4c93\">Pipeline</label><div class=\"sk-toggleable__content\"><pre>Pipeline(steps=[('preprocessing',\n                 ColumnTransformer(transformers=[('continuous',\n                                                  Pipeline(steps=[('imputer',\n                                                                   SimpleImputer(strategy='median'))]),\n                                                  ['city_development_index',\n                                                   'training_hours']),\n                                                 ('nominal',\n                                                  Pipeline(steps=[('imputer',\n                                                                   SimpleImputer(fill_value='unknown',\n                                                                                 strategy='constant')),\n                                                                  ('ohe',\n                                                                   OneHotEncoder())]),\n                                                  ['gender',\n                                                   'relevent_experience',\n                                                   'major_dis...\n                                                                                               'time '\n                                                                                               'course',\n                                                                                               'Full '\n                                                                                               'time '\n                                                                                               'course'],\n                                                                                              ['unknown',\n                                                                                               '<10',\n                                                                                               '10/49',\n                                                                                               '50-99',\n                                                                                               '100-500',\n                                                                                               '500-999',\n                                                                                               '1000-4999',\n                                                                                               '5000-9999',\n                                                                                               '10000+']]))]),\n                                                  ['education_level',\n                                                   'last_new_job', 'experience',\n                                                   'enrolled_university',\n                                                   'company_size'])])),\n                ('rf',\n                 RandomForestClassifier(class_weight='balanced', max_depth=200,\n                                        min_samples_leaf=3, min_samples_split=5,\n                                        n_estimators=200, n_jobs=-1))])</pre></div></div></div><div class=\"sk-serial\"><div class=\"sk-item sk-dashed-wrapped\"><div class=\"sk-label-container\"><div class=\"sk-label sk-toggleable\"><input class=\"sk-toggleable__control sk-hidden--visually\" id=\"a10eddaa-ea49-4f13-a972-322eb5f52c72\" type=\"checkbox\" ><label class=\"sk-toggleable__label\" for=\"a10eddaa-ea49-4f13-a972-322eb5f52c72\">preprocessing: ColumnTransformer</label><div class=\"sk-toggleable__content\"><pre>ColumnTransformer(transformers=[('continuous',\n                                 Pipeline(steps=[('imputer',\n                                                  SimpleImputer(strategy='median'))]),\n                                 ['city_development_index', 'training_hours']),\n                                ('nominal',\n                                 Pipeline(steps=[('imputer',\n                                                  SimpleImputer(fill_value='unknown',\n                                                                strategy='constant')),\n                                                 ('ohe', OneHotEncoder())]),\n                                 ['gender', 'relevent_experience',\n                                  'major_discipline', 'company_type']),\n                                ('ordin...\n                                                                              'unknown',\n                                                                              '1',\n                                                                              '2',\n                                                                              '3',\n                                                                              '4',\n                                                                              '5',\n                                                                              '6',\n                                                                              '7',\n                                                                              '8',\n                                                                              '9',\n                                                                              '10',\n                                                                              '11',\n                                                                              '12',\n                                                                              '13',\n                                                                              '14',\n                                                                              '15',\n                                                                              '16',\n                                                                              '17',\n                                                                              '18',\n                                                                              '19',\n                                                                              '20',\n                                                                              '>20'],\n                                                                             ['no_enrollment',\n                                                                              'unknown',\n                                                                              'Part '\n                                                                              'time '\n                                                                              'course',\n                                                                              'Full '\n                                                                              'time '\n                                                                              'course'],\n                                                                             ['unknown',\n                                                                              '<10',\n                                                                              '10/49',\n                                                                              '50-99',\n                                                                              '100-500',\n                                                                              '500-999',\n                                                                              '1000-4999',\n                                                                              '5000-9999',\n                                                                              '10000+']]))]),\n                                 ['education_level', 'last_new_job',\n                                  'experience', 'enrolled_university',\n                                  'company_size'])])</pre></div></div></div><div class=\"sk-parallel\"><div class=\"sk-parallel-item\"><div class=\"sk-item\"><div class=\"sk-label-container\"><div class=\"sk-label sk-toggleable\"><input class=\"sk-toggleable__control sk-hidden--visually\" id=\"a8be95bc-d20d-43e3-8d4d-1557f25173a1\" type=\"checkbox\" ><label class=\"sk-toggleable__label\" for=\"a8be95bc-d20d-43e3-8d4d-1557f25173a1\">continuous</label><div class=\"sk-toggleable__content\"><pre>['city_development_index', 'training_hours']</pre></div></div></div><div class=\"sk-serial\"><div class=\"sk-item\"><div class=\"sk-serial\"><div class=\"sk-item\"><div class=\"sk-estimator sk-toggleable\"><input class=\"sk-toggleable__control sk-hidden--visually\" id=\"7846111a-a2da-4907-88d9-3271d2c9f237\" type=\"checkbox\" ><label class=\"sk-toggleable__label\" for=\"7846111a-a2da-4907-88d9-3271d2c9f237\">SimpleImputer</label><div class=\"sk-toggleable__content\"><pre>SimpleImputer(strategy='median')</pre></div></div></div></div></div></div></div></div><div class=\"sk-parallel-item\"><div class=\"sk-item\"><div class=\"sk-label-container\"><div class=\"sk-label sk-toggleable\"><input class=\"sk-toggleable__control sk-hidden--visually\" id=\"c07e5c3c-ffd1-4cad-b538-1c589a69ac2c\" type=\"checkbox\" ><label class=\"sk-toggleable__label\" for=\"c07e5c3c-ffd1-4cad-b538-1c589a69ac2c\">nominal</label><div class=\"sk-toggleable__content\"><pre>['gender', 'relevent_experience', 'major_discipline', 'company_type']</pre></div></div></div><div class=\"sk-serial\"><div class=\"sk-item\"><div class=\"sk-serial\"><div class=\"sk-item\"><div class=\"sk-estimator sk-toggleable\"><input class=\"sk-toggleable__control sk-hidden--visually\" id=\"a5d97935-4434-4143-8e09-3fd4d1efc1e9\" type=\"checkbox\" ><label class=\"sk-toggleable__label\" for=\"a5d97935-4434-4143-8e09-3fd4d1efc1e9\">SimpleImputer</label><div class=\"sk-toggleable__content\"><pre>SimpleImputer(fill_value='unknown', strategy='constant')</pre></div></div></div><div class=\"sk-item\"><div class=\"sk-estimator sk-toggleable\"><input class=\"sk-toggleable__control sk-hidden--visually\" id=\"1cb9b10d-ac0b-4bd4-8a14-b8c5da81112e\" type=\"checkbox\" ><label class=\"sk-toggleable__label\" for=\"1cb9b10d-ac0b-4bd4-8a14-b8c5da81112e\">OneHotEncoder</label><div class=\"sk-toggleable__content\"><pre>OneHotEncoder()</pre></div></div></div></div></div></div></div></div><div class=\"sk-parallel-item\"><div class=\"sk-item\"><div class=\"sk-label-container\"><div class=\"sk-label sk-toggleable\"><input class=\"sk-toggleable__control sk-hidden--visually\" id=\"809c6ede-8840-42b5-9c4e-4b2ab144b150\" type=\"checkbox\" ><label class=\"sk-toggleable__label\" for=\"809c6ede-8840-42b5-9c4e-4b2ab144b150\">ordinal</label><div class=\"sk-toggleable__content\"><pre>['education_level', 'last_new_job', 'experience', 'enrolled_university', 'company_size']</pre></div></div></div><div class=\"sk-serial\"><div class=\"sk-item\"><div class=\"sk-serial\"><div class=\"sk-item\"><div class=\"sk-estimator sk-toggleable\"><input class=\"sk-toggleable__control sk-hidden--visually\" id=\"07c1c3a9-f580-4d8e-9e60-bb4e7cad2a5e\" type=\"checkbox\" ><label class=\"sk-toggleable__label\" for=\"07c1c3a9-f580-4d8e-9e60-bb4e7cad2a5e\">SimpleImputer</label><div class=\"sk-toggleable__content\"><pre>SimpleImputer(fill_value='unknown', strategy='constant')</pre></div></div></div><div class=\"sk-item\"><div class=\"sk-estimator sk-toggleable\"><input class=\"sk-toggleable__control sk-hidden--visually\" id=\"352529b0-82b3-4746-8964-f0ee4214ec4e\" type=\"checkbox\" ><label class=\"sk-toggleable__label\" for=\"352529b0-82b3-4746-8964-f0ee4214ec4e\">OrdinalEncoder</label><div class=\"sk-toggleable__content\"><pre>OrdinalEncoder(categories=[['Primary School', 'unknown', 'High School',\n                            'Graduate', 'Masters', 'Phd'],\n                           ['never', 'unknown', '1', '2', '3', '4', '>4'],\n                           ['<1', 'unknown', '1', '2', '3', '4', '5', '6', '7',\n                            '8', '9', '10', '11', '12', '13', '14', '15', '16',\n                            '17', '18', '19', '20', '>20'],\n                           ['no_enrollment', 'unknown', 'Part time course',\n                            'Full time course'],\n                           ['unknown', '<10', '10/49', '50-99', '100-500',\n                            '500-999', '1000-4999', '5000-9999', '10000+']])</pre></div></div></div></div></div></div></div></div></div></div><div class=\"sk-item\"><div class=\"sk-estimator sk-toggleable\"><input class=\"sk-toggleable__control sk-hidden--visually\" id=\"6a692641-56cb-4c06-a2a1-cb14d7cb4217\" type=\"checkbox\" ><label class=\"sk-toggleable__label\" for=\"6a692641-56cb-4c06-a2a1-cb14d7cb4217\">RandomForestClassifier</label><div class=\"sk-toggleable__content\"><pre>RandomForestClassifier(class_weight='balanced', max_depth=200,\n                       min_samples_leaf=3, min_samples_split=5,\n                       n_estimators=200, n_jobs=-1)</pre></div></div></div></div></div></div></div>"
          },
          "metadata": {}
        }
      ],
      "execution_count": 10
    },
    {
      "cell_type": "markdown",
      "source": "<a style='text-decoration:none;line-height:16px;display:flex;color:#5B5B62;padding:10px;justify-content:end;' href='https://deepnote.com?utm_source=created-in-deepnote-cell&projectId=3d577cd0-4e74-4b55-beaf-ba4ec1241d48' target=\"_blank\">\n<img style='display:inline;max-height:16px;margin:0px;margin-right:7.5px;' src='data:image/svg+xml;base64,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' > </img>\nCreated in <span style='font-weight:600;margin-left:4px;'>Deepnote</span></a>",
      "metadata": {
        "tags": [],
        "created_in_deepnote_cell": true,
        "deepnote_cell_type": "markdown"
      }
    }
  ],
  "nbformat": 4,
  "nbformat_minor": 2,
  "metadata": {
    "orig_nbformat": 2,
    "deepnote_notebook_id": "fb4a0538-d10d-41e1-9a04-945c40734aa5",
    "deepnote": {},
    "deepnote_execution_queue": []
  }
}